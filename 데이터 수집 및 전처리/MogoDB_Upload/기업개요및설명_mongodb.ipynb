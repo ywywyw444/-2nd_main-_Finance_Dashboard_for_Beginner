{
 "cells": [
  {
   "cell_type": "code",
   "execution_count": null,
   "id": "4a21b7c7",
   "metadata": {
    "vscode": {
     "languageId": "plaintext"
    }
   },
   "outputs": [],
   "source": [
    "import pandas as pd\n",
    "from pymongo import MongoClient\n",
    "\n",
    "# CSV 또는 Excel 파일 로드\n",
    "df = pd.read_csv(\"기업설명.csv\")  \n",
    "\n",
    "# MongoDB 연결\n",
    "client = MongoClient(\"\")\n",
    "db = client[\"testDB\"]\n",
    "collection = db[\"explain\"]\n",
    "\n",
    "db.drop_collection(\"explain\")\n",
    "\n",
    "# DataFrame을 딕셔너리 리스트로 변환 후 삽입\n",
    "collection.insert_many(df.to_dict(\"records\"))\n",
    "\n",
    "print(\"업로드 완료\")\n"
   ]
  },
  {
   "cell_type": "code",
   "execution_count": null,
   "id": "a548befc",
   "metadata": {
    "vscode": {
     "languageId": "plaintext"
    }
   },
   "outputs": [],
   "source": [
    "import pandas as pd\n",
    "from pymongo import MongoClient\n",
    "\n",
    "# CSV 또는 Excel 파일 로드\n",
    "df = pd.read_csv(\"기업개요.csv\")  \n",
    "\n",
    "# MongoDB 연결\n",
    "client = MongoClient(\"\")\n",
    "db = client[\"testDB\"]\n",
    "collection = db[\"outline\"]\n",
    "\n",
    "db.drop_collection(\"outline\")\n",
    "\n",
    "# DataFrame을 딕셔너리 리스트로 변환 후 삽입\n",
    "collection.insert_many(df.to_dict(\"records\"))\n",
    "\n",
    "print(\"업로드 완료\")\n"
   ]
  }
 ],
 "metadata": {
  "language_info": {
   "name": "python"
  }
 },
 "nbformat": 4,
 "nbformat_minor": 5
}
